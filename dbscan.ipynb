{
 "cells": [
  {
   "cell_type": "code",
   "execution_count": 42,
   "id": "9b606eb2-d2d3-45ce-8ce5-c46778fa678d",
   "metadata": {},
   "outputs": [],
   "source": [
    "#Penerapan Algoritma DBSCAN Only\n",
    "\n",
    "import pandas as pd\n",
    "import numpy as np\n",
    "import matplotlib.pyplot as plt\n",
    "from sklearn.cluster import DBSCAN\n",
    "from sklearn.neighbors import NearestNeighbors\n",
    "from itertools import product"
   ]
  },
  {
   "cell_type": "code",
   "execution_count": 43,
   "id": "6e9d43b4-0dfc-46fe-ac9c-e2477900c850",
   "metadata": {},
   "outputs": [],
   "source": [
    "filelocation = 'C:/Users/User/Documents/Berkas Fikar/Skripsi Fikar/Database/pca_sekolah_sulsel.csv'\n",
    "data = pd.read_csv(filelocation)"
   ]
  },
  {
   "cell_type": "code",
   "execution_count": 44,
   "id": "42267e62-681e-40e5-9f70-ee953e99953a",
   "metadata": {
    "scrolled": true
   },
   "outputs": [
    {
     "data": {
      "text/html": [
       "<div>\n",
       "<style scoped>\n",
       "    .dataframe tbody tr th:only-of-type {\n",
       "        vertical-align: middle;\n",
       "    }\n",
       "\n",
       "    .dataframe tbody tr th {\n",
       "        vertical-align: top;\n",
       "    }\n",
       "\n",
       "    .dataframe thead th {\n",
       "        text-align: right;\n",
       "    }\n",
       "</style>\n",
       "<table border=\"1\" class=\"dataframe\">\n",
       "  <thead>\n",
       "    <tr style=\"text-align: right;\">\n",
       "      <th></th>\n",
       "      <th>pca1</th>\n",
       "      <th>pca2</th>\n",
       "    </tr>\n",
       "  </thead>\n",
       "  <tbody>\n",
       "    <tr>\n",
       "      <th>0</th>\n",
       "      <td>1.628340</td>\n",
       "      <td>3.349251</td>\n",
       "    </tr>\n",
       "    <tr>\n",
       "      <th>1</th>\n",
       "      <td>1.781699</td>\n",
       "      <td>6.710388</td>\n",
       "    </tr>\n",
       "    <tr>\n",
       "      <th>2</th>\n",
       "      <td>1.373750</td>\n",
       "      <td>3.268771</td>\n",
       "    </tr>\n",
       "    <tr>\n",
       "      <th>3</th>\n",
       "      <td>2.638114</td>\n",
       "      <td>3.056547</td>\n",
       "    </tr>\n",
       "    <tr>\n",
       "      <th>4</th>\n",
       "      <td>0.434320</td>\n",
       "      <td>3.433142</td>\n",
       "    </tr>\n",
       "  </tbody>\n",
       "</table>\n",
       "</div>"
      ],
      "text/plain": [
       "       pca1      pca2\n",
       "0  1.628340  3.349251\n",
       "1  1.781699  6.710388\n",
       "2  1.373750  3.268771\n",
       "3  2.638114  3.056547\n",
       "4  0.434320  3.433142"
      ]
     },
     "execution_count": 44,
     "metadata": {},
     "output_type": "execute_result"
    }
   ],
   "source": [
    "data.head()"
   ]
  },
  {
   "cell_type": "code",
   "execution_count": 45,
   "id": "98a43428-69d4-4dd8-a602-f0b73f0e2a53",
   "metadata": {},
   "outputs": [],
   "source": [
    "features = ['pca1', 'pca2']\n",
    "x1 = data.loc[:100, features].values"
   ]
  },
  {
   "cell_type": "code",
   "execution_count": 46,
   "id": "cfc28864-3314-49b5-8e7b-45b8b4aeb515",
   "metadata": {},
   "outputs": [],
   "source": [
    "nn = NearestNeighbors(n_neighbors=2)\n",
    "nbrs = nn.fit(x1)\n",
    "distances,indices=nbrs.kneighbors(x1)"
   ]
  },
  {
   "cell_type": "code",
   "execution_count": 47,
   "id": "7488ba23-e3c5-4461-938f-a0e6607e003a",
   "metadata": {},
   "outputs": [
    {
     "data": {
      "image/png": "[encoded data removed]",
      "text/plain": [
       "<Figure size 360x360 with 1 Axes>"
      ]
     },
     "metadata": {
      "needs_background": "light"
     },
     "output_type": "display_data"
    }
   ],
   "source": [
    "distances = np.sort(distances, axis=0)\n",
    "distances = distances[:,1]\n",
    "plt.rcParams['figure.figsize'] = (5,5)\n",
    "plt.plot(distances)\n",
    "plt.show()"
   ]
  },
  {
   "cell_type": "code",
   "execution_count": 48,
   "id": "9e512b86-40dc-431e-8168-52bcce6e8d65",
   "metadata": {},
   "outputs": [],
   "source": [
    "x = data.loc[:, features].values\n",
    "dbscan = DBSCAN(eps=0.7, min_samples=7).fit(x)\n",
    "labels = dbscan.labels_"
   ]
  },
  {
   "cell_type": "code",
   "execution_count": 49,
   "id": "8bc27d4b-5ec4-48b2-ae2e-1f6946d540d9",
   "metadata": {},
   "outputs": [
    {
     "name": "stdout",
     "output_type": "stream",
     "text": [
      "klaster total:4\n",
      "[0 1 0 ... 1 1 2]\n"
     ]
    }
   ],
   "source": [
    "print(\"klaster total:{}\".format(len(set(labels[np.where(labels!=-1)]))))\n",
    "print(labels)"
   ]
  },
  {
   "cell_type": "code",
   "execution_count": 50,
   "id": "9147047e-cfe8-4bf4-9636-b64096ad9e8f",
   "metadata": {},
   "outputs": [
    {
     "data": {
      "image/png": "[encoded data removed]",
      "text/plain": [
       "<Figure size 360x360 with 1 Axes>"
      ]
     },
     "metadata": {
      "needs_background": "light"
     },
     "output_type": "display_data"
    }
   ],
   "source": [
    "plt.scatter(x[:,0], x[:,1], c=labels, cmap=\"plasma\")\n",
    "plt.show()"
   ]
  },
  {
   "cell_type": "code",
   "execution_count": 51,
   "id": "0087b603-312a-46d3-a0b0-de3469354fa0",
   "metadata": {},
   "outputs": [
    {
     "data": {
      "text/html": [
       "<div>\n",
       "<style scoped>\n",
       "    .dataframe tbody tr th:only-of-type {\n",
       "        vertical-align: middle;\n",
       "    }\n",
       "\n",
       "    .dataframe tbody tr th {\n",
       "        vertical-align: top;\n",
       "    }\n",
       "\n",
       "    .dataframe thead th {\n",
       "        text-align: right;\n",
       "    }\n",
       "</style>\n",
       "<table border=\"1\" class=\"dataframe\">\n",
       "  <thead>\n",
       "    <tr style=\"text-align: right;\">\n",
       "      <th></th>\n",
       "      <th>dbscanonly_kluster</th>\n",
       "    </tr>\n",
       "  </thead>\n",
       "  <tbody>\n",
       "    <tr>\n",
       "      <th>0</th>\n",
       "      <td>0</td>\n",
       "    </tr>\n",
       "    <tr>\n",
       "      <th>1</th>\n",
       "      <td>1</td>\n",
       "    </tr>\n",
       "    <tr>\n",
       "      <th>2</th>\n",
       "      <td>0</td>\n",
       "    </tr>\n",
       "    <tr>\n",
       "      <th>3</th>\n",
       "      <td>0</td>\n",
       "    </tr>\n",
       "    <tr>\n",
       "      <th>4</th>\n",
       "      <td>0</td>\n",
       "    </tr>\n",
       "    <tr>\n",
       "      <th>...</th>\n",
       "      <td>...</td>\n",
       "    </tr>\n",
       "    <tr>\n",
       "      <th>9196</th>\n",
       "      <td>1</td>\n",
       "    </tr>\n",
       "    <tr>\n",
       "      <th>9197</th>\n",
       "      <td>3</td>\n",
       "    </tr>\n",
       "    <tr>\n",
       "      <th>9198</th>\n",
       "      <td>1</td>\n",
       "    </tr>\n",
       "    <tr>\n",
       "      <th>9199</th>\n",
       "      <td>1</td>\n",
       "    </tr>\n",
       "    <tr>\n",
       "      <th>9200</th>\n",
       "      <td>2</td>\n",
       "    </tr>\n",
       "  </tbody>\n",
       "</table>\n",
       "<p>9201 rows × 1 columns</p>\n",
       "</div>"
      ],
      "text/plain": [
       "      dbscanonly_kluster\n",
       "0                      0\n",
       "1                      1\n",
       "2                      0\n",
       "3                      0\n",
       "4                      0\n",
       "...                  ...\n",
       "9196                   1\n",
       "9197                   3\n",
       "9198                   1\n",
       "9199                   1\n",
       "9200                   2\n",
       "\n",
       "[9201 rows x 1 columns]"
      ]
     },
     "execution_count": 51,
     "metadata": {},
     "output_type": "execute_result"
    }
   ],
   "source": [
    "klaster = pd.DataFrame(data = labels, columns = ['dbscanonly_kluster'])\n",
    "klaster"
   ]
  },
  {
   "cell_type": "code",
   "execution_count": 52,
   "id": "f223f5fd-24ff-47e4-a2d7-1665ad0c8c92",
   "metadata": {},
   "outputs": [
    {
     "name": "stdout",
     "output_type": "stream",
     "text": [
      "0.667756759373751\n"
     ]
    }
   ],
   "source": [
    "from sklearn.metrics import silhouette_samples, silhouette_score\n",
    "SI = silhouette_score(data, labels)\n",
    "print(SI)"
   ]
  },
  {
   "cell_type": "code",
   "execution_count": 53,
   "id": "6cfc460b-5b77-4b39-842b-e2125226de35",
   "metadata": {},
   "outputs": [
    {
     "name": "stdout",
     "output_type": "stream",
     "text": [
      "kolom 'dbscanonly_kluster' tidak ditemukan dalam data.\n"
     ]
    }
   ],
   "source": [
    "if 'dbscanonly_kluster' in data.columns:\n",
    "\n",
    "    data_simplification = data[data['dbscanonly_kluster'] != -1]\n",
    "\n",
    "    print(\"Data Setelah Penyederhanaan :\")\n",
    "    print(data_simplification.head())\n",
    "else :\n",
    "    print(\"kolom 'dbscanonly_kluster' tidak ditemukan dalam data.\")"
   ]
  },
  {
   "cell_type": "code",
   "execution_count": 56,
   "id": "a1fc50b0-1943-4ef5-96c4-4aaa30136a31",
   "metadata": {},
   "outputs": [
    {
     "data": {
      "text/plain": [
       "dbscanonly_kluster    51\n",
       "dtype: int64"
      ]
     },
     "execution_count": 56,
     "metadata": {},
     "output_type": "execute_result"
    }
   ],
   "source": [
    "klaster[klaster['dbscanonly_kluster'] == -1].count()"
   ]
  },
  {
   "cell_type": "code",
   "execution_count": 57,
   "id": "8b490cb7-8aed-4833-aa92-764a3809e607",
   "metadata": {},
   "outputs": [],
   "source": [
    "datasekolah = pd.read_csv('C:/Users/User/Documents/Berkas Fikar/Skripsi Fikar/Database/data_gabungan_sekolah_sulsel.csv')"
   ]
  },
  {
   "cell_type": "code",
   "execution_count": 58,
   "id": "c6924aee-9bc0-4ff4-8a4f-6f51347a2d2e",
   "metadata": {},
   "outputs": [
    {
     "data": {
      "text/html": [
       "<div>\n",
       "<style scoped>\n",
       "    .dataframe tbody tr th:only-of-type {\n",
       "        vertical-align: middle;\n",
       "    }\n",
       "\n",
       "    .dataframe tbody tr th {\n",
       "        vertical-align: top;\n",
       "    }\n",
       "\n",
       "    .dataframe thead th {\n",
       "        text-align: right;\n",
       "    }\n",
       "</style>\n",
       "<table border=\"1\" class=\"dataframe\">\n",
       "  <thead>\n",
       "    <tr style=\"text-align: right;\">\n",
       "      <th></th>\n",
       "      <th>No</th>\n",
       "      <th>Nama Sekolah</th>\n",
       "      <th>BP</th>\n",
       "      <th>Status</th>\n",
       "      <th>siswa_total</th>\n",
       "      <th>jumlah_guru</th>\n",
       "      <th>staf_total</th>\n",
       "      <th>jumlah_ruangan</th>\n",
       "      <th>daya_listrik</th>\n",
       "      <th>wilayah_total</th>\n",
       "      <th>skor_akreditasi</th>\n",
       "      <th>Lintang</th>\n",
       "      <th>Bujur</th>\n",
       "      <th>pca1</th>\n",
       "      <th>pca2</th>\n",
       "      <th>dbscanonly_kluster</th>\n",
       "    </tr>\n",
       "  </thead>\n",
       "  <tbody>\n",
       "    <tr>\n",
       "      <th>0</th>\n",
       "      <td>1</td>\n",
       "      <td>UPT SPF SD INPRES BADDOKA</td>\n",
       "      <td>SD</td>\n",
       "      <td>Negeri</td>\n",
       "      <td>337</td>\n",
       "      <td>18</td>\n",
       "      <td>3</td>\n",
       "      <td>13</td>\n",
       "      <td>1300</td>\n",
       "      <td>2808</td>\n",
       "      <td>81</td>\n",
       "      <td>509153567</td>\n",
       "      <td>1195133502</td>\n",
       "      <td>1.628340</td>\n",
       "      <td>3.349251</td>\n",
       "      <td>0</td>\n",
       "    </tr>\n",
       "    <tr>\n",
       "      <th>1</th>\n",
       "      <td>2</td>\n",
       "      <td>UPT SPF SD INPRES BAKUNG 1</td>\n",
       "      <td>SD</td>\n",
       "      <td>Negeri</td>\n",
       "      <td>243</td>\n",
       "      <td>15</td>\n",
       "      <td>4</td>\n",
       "      <td>8</td>\n",
       "      <td>900</td>\n",
       "      <td>3000</td>\n",
       "      <td>84</td>\n",
       "      <td>5073361105</td>\n",
       "      <td>1195294071</td>\n",
       "      <td>1.781699</td>\n",
       "      <td>6.710388</td>\n",
       "      <td>1</td>\n",
       "    </tr>\n",
       "    <tr>\n",
       "      <th>2</th>\n",
       "      <td>3</td>\n",
       "      <td>UPT SPF SD INPRES BAKUNG 2</td>\n",
       "      <td>SD</td>\n",
       "      <td>Negeri</td>\n",
       "      <td>269</td>\n",
       "      <td>16</td>\n",
       "      <td>5</td>\n",
       "      <td>8</td>\n",
       "      <td>4400</td>\n",
       "      <td>2500</td>\n",
       "      <td>84</td>\n",
       "      <td>5079140801</td>\n",
       "      <td>119529189</td>\n",
       "      <td>1.373750</td>\n",
       "      <td>3.268771</td>\n",
       "      <td>0</td>\n",
       "    </tr>\n",
       "    <tr>\n",
       "      <th>3</th>\n",
       "      <td>4</td>\n",
       "      <td>UPT SPF SD INPRES DAYA</td>\n",
       "      <td>SD</td>\n",
       "      <td>Negeri</td>\n",
       "      <td>498</td>\n",
       "      <td>28</td>\n",
       "      <td>3</td>\n",
       "      <td>13</td>\n",
       "      <td>4640</td>\n",
       "      <td>1200</td>\n",
       "      <td>87</td>\n",
       "      <td>5112902708</td>\n",
       "      <td>119512008</td>\n",
       "      <td>2.638114</td>\n",
       "      <td>3.056547</td>\n",
       "      <td>0</td>\n",
       "    </tr>\n",
       "    <tr>\n",
       "      <th>4</th>\n",
       "      <td>5</td>\n",
       "      <td>UPT SPF SD INPRES KALANG TUBUNG 2</td>\n",
       "      <td>SD</td>\n",
       "      <td>Negeri</td>\n",
       "      <td>195</td>\n",
       "      <td>15</td>\n",
       "      <td>1</td>\n",
       "      <td>8</td>\n",
       "      <td>1300</td>\n",
       "      <td>1505</td>\n",
       "      <td>81</td>\n",
       "      <td>5080894528</td>\n",
       "      <td>119536749</td>\n",
       "      <td>0.434320</td>\n",
       "      <td>3.433142</td>\n",
       "      <td>0</td>\n",
       "    </tr>\n",
       "    <tr>\n",
       "      <th>...</th>\n",
       "      <td>...</td>\n",
       "      <td>...</td>\n",
       "      <td>...</td>\n",
       "      <td>...</td>\n",
       "      <td>...</td>\n",
       "      <td>...</td>\n",
       "      <td>...</td>\n",
       "      <td>...</td>\n",
       "      <td>...</td>\n",
       "      <td>...</td>\n",
       "      <td>...</td>\n",
       "      <td>...</td>\n",
       "      <td>...</td>\n",
       "      <td>...</td>\n",
       "      <td>...</td>\n",
       "      <td>...</td>\n",
       "    </tr>\n",
       "    <tr>\n",
       "      <th>9196</th>\n",
       "      <td>9197</td>\n",
       "      <td>SMKS YPLP PGRI 1 MAKASSAR</td>\n",
       "      <td>SMK</td>\n",
       "      <td>Swasta</td>\n",
       "      <td>191</td>\n",
       "      <td>12</td>\n",
       "      <td>5</td>\n",
       "      <td>14</td>\n",
       "      <td>10600</td>\n",
       "      <td>3482</td>\n",
       "      <td>84</td>\n",
       "      <td>5183308565</td>\n",
       "      <td>1194176927</td>\n",
       "      <td>2.215221</td>\n",
       "      <td>6.915696</td>\n",
       "      <td>1</td>\n",
       "    </tr>\n",
       "    <tr>\n",
       "      <th>9197</th>\n",
       "      <td>9198</td>\n",
       "      <td>SMKN 7 MAKASSAR</td>\n",
       "      <td>SMK</td>\n",
       "      <td>Negeri</td>\n",
       "      <td>984</td>\n",
       "      <td>71</td>\n",
       "      <td>5</td>\n",
       "      <td>35</td>\n",
       "      <td>3400</td>\n",
       "      <td>5474</td>\n",
       "      <td>84</td>\n",
       "      <td>5138319766</td>\n",
       "      <td>1194119229</td>\n",
       "      <td>8.545746</td>\n",
       "      <td>5.302014</td>\n",
       "      <td>3</td>\n",
       "    </tr>\n",
       "    <tr>\n",
       "      <th>9198</th>\n",
       "      <td>9199</td>\n",
       "      <td>SMKS GLOBAL ENTREPRENEUR</td>\n",
       "      <td>SMK</td>\n",
       "      <td>Swasta</td>\n",
       "      <td>0</td>\n",
       "      <td>0</td>\n",
       "      <td>1</td>\n",
       "      <td>0</td>\n",
       "      <td>5600</td>\n",
       "      <td>2700</td>\n",
       "      <td>76</td>\n",
       "      <td>5145518711</td>\n",
       "      <td>1194164773</td>\n",
       "      <td>-0.665992</td>\n",
       "      <td>7.397538</td>\n",
       "      <td>1</td>\n",
       "    </tr>\n",
       "    <tr>\n",
       "      <th>9199</th>\n",
       "      <td>9200</td>\n",
       "      <td>SMK KESEHATAN TNI AL MAKASSAR</td>\n",
       "      <td>SMK</td>\n",
       "      <td>Swasta</td>\n",
       "      <td>22</td>\n",
       "      <td>5</td>\n",
       "      <td>1</td>\n",
       "      <td>5</td>\n",
       "      <td>2200</td>\n",
       "      <td>10396</td>\n",
       "      <td>91</td>\n",
       "      <td>5115569448</td>\n",
       "      <td>1194173205</td>\n",
       "      <td>0.133514</td>\n",
       "      <td>7.232193</td>\n",
       "      <td>1</td>\n",
       "    </tr>\n",
       "    <tr>\n",
       "      <th>9200</th>\n",
       "      <td>9201</td>\n",
       "      <td>SMKS MUHAMMADIYAH 3 MAKASSAR</td>\n",
       "      <td>SMK</td>\n",
       "      <td>Swasta</td>\n",
       "      <td>190</td>\n",
       "      <td>11</td>\n",
       "      <td>5</td>\n",
       "      <td>15</td>\n",
       "      <td>1500</td>\n",
       "      <td>3533</td>\n",
       "      <td>85</td>\n",
       "      <td>5125</td>\n",
       "      <td>119413</td>\n",
       "      <td>0.548619</td>\n",
       "      <td>-0.779776</td>\n",
       "      <td>2</td>\n",
       "    </tr>\n",
       "  </tbody>\n",
       "</table>\n",
       "<p>9201 rows × 16 columns</p>\n",
       "</div>"
      ],
      "text/plain": [
       "        No                       Nama Sekolah   BP  Status  siswa_total  \\\n",
       "0        1          UPT SPF SD INPRES BADDOKA   SD  Negeri          337   \n",
       "1        2         UPT SPF SD INPRES BAKUNG 1   SD  Negeri          243   \n",
       "2        3         UPT SPF SD INPRES BAKUNG 2   SD  Negeri          269   \n",
       "3        4             UPT SPF SD INPRES DAYA   SD  Negeri          498   \n",
       "4        5  UPT SPF SD INPRES KALANG TUBUNG 2   SD  Negeri          195   \n",
       "...    ...                                ...  ...     ...          ...   \n",
       "9196  9197          SMKS YPLP PGRI 1 MAKASSAR  SMK  Swasta          191   \n",
       "9197  9198                    SMKN 7 MAKASSAR  SMK  Negeri          984   \n",
       "9198  9199           SMKS GLOBAL ENTREPRENEUR  SMK  Swasta            0   \n",
       "9199  9200      SMK KESEHATAN TNI AL MAKASSAR  SMK  Swasta           22   \n",
       "9200  9201       SMKS MUHAMMADIYAH 3 MAKASSAR  SMK  Swasta          190   \n",
       "\n",
       "      jumlah_guru  staf_total  jumlah_ruangan  daya_listrik  wilayah_total  \\\n",
       "0              18           3              13          1300           2808   \n",
       "1              15           4               8           900           3000   \n",
       "2              16           5               8          4400           2500   \n",
       "3              28           3              13          4640           1200   \n",
       "4              15           1               8          1300           1505   \n",
       "...           ...         ...             ...           ...            ...   \n",
       "9196           12           5              14         10600           3482   \n",
       "9197           71           5              35          3400           5474   \n",
       "9198            0           1               0          5600           2700   \n",
       "9199            5           1               5          2200          10396   \n",
       "9200           11           5              15          1500           3533   \n",
       "\n",
       "      skor_akreditasi     Lintang       Bujur      pca1      pca2  \\\n",
       "0                  81   509153567  1195133502  1.628340  3.349251   \n",
       "1                  84  5073361105  1195294071  1.781699  6.710388   \n",
       "2                  84  5079140801   119529189  1.373750  3.268771   \n",
       "3                  87  5112902708   119512008  2.638114  3.056547   \n",
       "4                  81  5080894528   119536749  0.434320  3.433142   \n",
       "...               ...         ...         ...       ...       ...   \n",
       "9196               84  5183308565  1194176927  2.215221  6.915696   \n",
       "9197               84  5138319766  1194119229  8.545746  5.302014   \n",
       "9198               76  5145518711  1194164773 -0.665992  7.397538   \n",
       "9199               91  5115569448  1194173205  0.133514  7.232193   \n",
       "9200               85        5125      119413  0.548619 -0.779776   \n",
       "\n",
       "      dbscanonly_kluster  \n",
       "0                      0  \n",
       "1                      1  \n",
       "2                      0  \n",
       "3                      0  \n",
       "4                      0  \n",
       "...                  ...  \n",
       "9196                   1  \n",
       "9197                   3  \n",
       "9198                   1  \n",
       "9199                   1  \n",
       "9200                   2  \n",
       "\n",
       "[9201 rows x 16 columns]"
      ]
     },
     "execution_count": 58,
     "metadata": {},
     "output_type": "execute_result"
    }
   ],
   "source": [
    "hasil1 = pd.concat([data, pd.DataFrame(klaster)],axis=1)\n",
    "hasil2 = pd.concat([datasekolah, pd.DataFrame(hasil1)],axis=1)\n",
    "hasil2.to_csv('data_dari_dbscan.csv', index = False)\n",
    "hasil2"
   ]
  },
  {
   "cell_type": "code",
   "execution_count": null,
   "id": "32db872f-7bd8-4341-a3d4-00e5019d2ce7",
   "metadata": {},
   "outputs": [],
   "source": []
  }
 ],
 "metadata": {
  "kernelspec": {
   "display_name": "Python 3 (ipykernel)",
   "language": "python",
   "name": "python3"
  },
  "language_info": {
   "codemirror_mode": {
    "name": "ipython",
    "version": 3
   },
   "file_extension": ".py",
   "mimetype": "text/x-python",
   "name": "python",
   "nbconvert_exporter": "python",
   "pygments_lexer": "ipython3",
   "version": "3.8.9"
  }
 },
 "nbformat": 4,
 "nbformat_minor": 5
}
