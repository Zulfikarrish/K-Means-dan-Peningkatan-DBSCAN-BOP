{
 "cells": [
  {
   "cell_type": "code",
   "execution_count": 1,
   "id": "e7c60c9c-1419-44a4-a197-9f7752b187a6",
   "metadata": {},
   "outputs": [],
   "source": [
    "#Algoritma K-Means Only dengan pengujian n_cluster = 3\n",
    "\n",
    "import pandas as pd\n",
    "import numpy as np\n",
    "import matplotlib.pyplot as plt\n",
    "from sklearn.cluster import KMeans"
   ]
  },
  {
   "cell_type": "code",
   "execution_count": 1340,
   "id": "da288b85-1f65-4805-936a-fc2e1ebb7f6e",
   "metadata": {},
   "outputs": [],
   "source": [
    "filelocation = 'C:/Users/User/Documents/Berkas Fikar/Skripsi Fikar/Database/data_pca_sekolah_sulsel.csv'\n",
    "data = pd.read_csv(filelocation)"
   ]
  },
  {
   "cell_type": "code",
   "execution_count": 1341,
   "id": "a6fee40c-2222-4fd3-9064-350062a0ac11",
   "metadata": {},
   "outputs": [
    {
     "data": {
      "text/html": [
       "<div>\n",
       "<style scoped>\n",
       "    .dataframe tbody tr th:only-of-type {\n",
       "        vertical-align: middle;\n",
       "    }\n",
       "\n",
       "    .dataframe tbody tr th {\n",
       "        vertical-align: top;\n",
       "    }\n",
       "\n",
       "    .dataframe thead th {\n",
       "        text-align: right;\n",
       "    }\n",
       "</style>\n",
       "<table border=\"1\" class=\"dataframe\">\n",
       "  <thead>\n",
       "    <tr style=\"text-align: right;\">\n",
       "      <th></th>\n",
       "      <th>pca1</th>\n",
       "      <th>pca2</th>\n",
       "    </tr>\n",
       "  </thead>\n",
       "  <tbody>\n",
       "    <tr>\n",
       "      <th>0</th>\n",
       "      <td>1.628340</td>\n",
       "      <td>3.349251</td>\n",
       "    </tr>\n",
       "    <tr>\n",
       "      <th>1</th>\n",
       "      <td>1.781699</td>\n",
       "      <td>6.710388</td>\n",
       "    </tr>\n",
       "    <tr>\n",
       "      <th>2</th>\n",
       "      <td>1.373750</td>\n",
       "      <td>3.268771</td>\n",
       "    </tr>\n",
       "    <tr>\n",
       "      <th>3</th>\n",
       "      <td>2.638114</td>\n",
       "      <td>3.056547</td>\n",
       "    </tr>\n",
       "    <tr>\n",
       "      <th>4</th>\n",
       "      <td>0.434320</td>\n",
       "      <td>3.433142</td>\n",
       "    </tr>\n",
       "  </tbody>\n",
       "</table>\n",
       "</div>"
      ],
      "text/plain": [
       "       pca1      pca2\n",
       "0  1.628340  3.349251\n",
       "1  1.781699  6.710388\n",
       "2  1.373750  3.268771\n",
       "3  2.638114  3.056547\n",
       "4  0.434320  3.433142"
      ]
     },
     "execution_count": 1341,
     "metadata": {},
     "output_type": "execute_result"
    }
   ],
   "source": [
    "data.head()"
   ]
  },
  {
   "cell_type": "code",
   "execution_count": 1342,
   "id": "dc1dffce-5a93-41ed-b27f-33bb62632fb1",
   "metadata": {},
   "outputs": [],
   "source": [
    "fitur = ['pca1', 'pca2']\n",
    "x = data.loc[:, fitur].values"
   ]
  },
  {
   "cell_type": "code",
   "execution_count": 1343,
   "id": "86c1a629-511a-4e6e-842d-e0d6df89c926",
   "metadata": {},
   "outputs": [],
   "source": [
    "kmeans_only = KMeans(n_clusters=4, init = 'k-means++')\n",
    "y_kmeans_only = kmeans_only.fit_predict(x)"
   ]
  },
  {
   "cell_type": "code",
   "execution_count": 1344,
   "id": "c7e10e3d-be31-4e3b-863c-2fbcd10494c2",
   "metadata": {},
   "outputs": [
    {
     "data": {
      "text/plain": [
       "array([2, 2, 2, ..., 2, 2, 1])"
      ]
     },
     "execution_count": 1344,
     "metadata": {},
     "output_type": "execute_result"
    }
   ],
   "source": [
    "y_kmeans_only"
   ]
  },
  {
   "cell_type": "code",
   "execution_count": 1345,
   "id": "34ef8624-7a87-4264-a898-58a822a74eb2",
   "metadata": {},
   "outputs": [
    {
     "data": {
      "text/html": [
       "<div>\n",
       "<style scoped>\n",
       "    .dataframe tbody tr th:only-of-type {\n",
       "        vertical-align: middle;\n",
       "    }\n",
       "\n",
       "    .dataframe tbody tr th {\n",
       "        vertical-align: top;\n",
       "    }\n",
       "\n",
       "    .dataframe thead th {\n",
       "        text-align: right;\n",
       "    }\n",
       "</style>\n",
       "<table border=\"1\" class=\"dataframe\">\n",
       "  <thead>\n",
       "    <tr style=\"text-align: right;\">\n",
       "      <th></th>\n",
       "      <th>kmeans_only_klaster</th>\n",
       "    </tr>\n",
       "  </thead>\n",
       "  <tbody>\n",
       "    <tr>\n",
       "      <th>0</th>\n",
       "      <td>2</td>\n",
       "    </tr>\n",
       "    <tr>\n",
       "      <th>1</th>\n",
       "      <td>2</td>\n",
       "    </tr>\n",
       "    <tr>\n",
       "      <th>2</th>\n",
       "      <td>2</td>\n",
       "    </tr>\n",
       "    <tr>\n",
       "      <th>3</th>\n",
       "      <td>2</td>\n",
       "    </tr>\n",
       "    <tr>\n",
       "      <th>4</th>\n",
       "      <td>1</td>\n",
       "    </tr>\n",
       "    <tr>\n",
       "      <th>...</th>\n",
       "      <td>...</td>\n",
       "    </tr>\n",
       "    <tr>\n",
       "      <th>9196</th>\n",
       "      <td>2</td>\n",
       "    </tr>\n",
       "    <tr>\n",
       "      <th>9197</th>\n",
       "      <td>0</td>\n",
       "    </tr>\n",
       "    <tr>\n",
       "      <th>9198</th>\n",
       "      <td>2</td>\n",
       "    </tr>\n",
       "    <tr>\n",
       "      <th>9199</th>\n",
       "      <td>2</td>\n",
       "    </tr>\n",
       "    <tr>\n",
       "      <th>9200</th>\n",
       "      <td>1</td>\n",
       "    </tr>\n",
       "  </tbody>\n",
       "</table>\n",
       "<p>9201 rows × 1 columns</p>\n",
       "</div>"
      ],
      "text/plain": [
       "      kmeans_only_klaster\n",
       "0                       2\n",
       "1                       2\n",
       "2                       2\n",
       "3                       2\n",
       "4                       1\n",
       "...                   ...\n",
       "9196                    2\n",
       "9197                    0\n",
       "9198                    2\n",
       "9199                    2\n",
       "9200                    1\n",
       "\n",
       "[9201 rows x 1 columns]"
      ]
     },
     "execution_count": 1345,
     "metadata": {},
     "output_type": "execute_result"
    }
   ],
   "source": [
    "klaster_kmeans_only = pd.DataFrame(data = y_kmeans_only, columns = ['kmeans_only_klaster'])\n",
    "klaster_kmeans_only"
   ]
  },
  {
   "cell_type": "code",
   "execution_count": 1353,
   "id": "75f92946-180f-41ce-8c57-0aeabeca4c52",
   "metadata": {},
   "outputs": [
    {
     "data": {
      "image/png": "[encoded data removed]",
      "text/plain": [
       "<Figure size 432x288 with 1 Axes>"
      ]
     },
     "metadata": {
      "needs_background": "light"
     },
     "output_type": "display_data"
    }
   ],
   "source": [
    "plt.scatter(x[y_kmeans_only==0,0], x[y_kmeans_only==0,1], s=50, c='green', label = 'klaster 1')\n",
    "plt.scatter(x[y_kmeans_only==1,0], x[y_kmeans_only==1,1], s=50, c='purple', label = 'klaster 2')\n",
    "plt.scatter(x[y_kmeans_only==2,0], x[y_kmeans_only==2,1], s=50, c='red', label = 'klaster 3')\n",
    "plt.scatter(x[y_kmeans_only==3,0], x[y_kmeans_only==3,1], s=50, c='black', label = 'klaster 4')\n",
    "plt.scatter(kmeans_only.cluster_centers_[:, 0], kmeans_only.cluster_centers_[:,1], s = 50, c = 'blue', label = 'Centroids')\n",
    "plt.legend()\n",
    "plt.show()"
   ]
  },
  {
   "cell_type": "code",
   "execution_count": 1351,
   "id": "ca101966-972b-45ec-9b70-ce96d24f43e7",
   "metadata": {},
   "outputs": [],
   "source": [
    "hasil = pd.concat([data, pd.DataFrame(klaster_kmeans_only)], axis=1)\n",
    "hasil.to_csv('data_hasil_kmeans_4cluster.csv', index = False)"
   ]
  },
  {
   "cell_type": "code",
   "execution_count": 1348,
   "id": "5a61ec68-1919-4ea4-a05b-a9fc324ef892",
   "metadata": {},
   "outputs": [
    {
     "name": "stdout",
     "output_type": "stream",
     "text": [
      "0.6634546357693659\n"
     ]
    }
   ],
   "source": [
    "from sklearn.metrics import silhouette_samples, silhouette_score\n",
    "SI = silhouette_score(x, y_kmeans_only)\n",
    "print(SI)"
   ]
  },
  {
   "cell_type": "code",
   "execution_count": null,
   "id": "9c823a85-c996-43e3-a999-4e8b74aa73a7",
   "metadata": {},
   "outputs": [],
   "source": []
  },
  {
   "cell_type": "code",
   "execution_count": null,
   "id": "91a084d7-3724-40d6-bee0-5aaa80e1f363",
   "metadata": {},
   "outputs": [],
   "source": []
  }
 ],
 "metadata": {
  "kernelspec": {
   "display_name": "Python 3 (ipykernel)",
   "language": "python",
   "name": "python3"
  },
  "language_info": {
   "codemirror_mode": {
    "name": "ipython",
    "version": 3
   },
   "file_extension": ".py",
   "mimetype": "text/x-python",
   "name": "python",
   "nbconvert_exporter": "python",
   "pygments_lexer": "ipython3",
   "version": "3.8.9"
  }
 },
 "nbformat": 4,
 "nbformat_minor": 5
}
