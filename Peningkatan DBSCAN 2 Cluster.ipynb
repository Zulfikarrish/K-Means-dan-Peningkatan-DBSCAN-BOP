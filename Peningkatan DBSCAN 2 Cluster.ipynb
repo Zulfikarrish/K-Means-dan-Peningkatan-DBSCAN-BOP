{
 "cells": [
  {
   "cell_type": "code",
   "execution_count": 9,
   "id": "07a2cb3c-882b-444b-9978-0afcb533aceb",
   "metadata": {},
   "outputs": [],
   "source": [
    "#Algoritma Peningkatan DBSCAN dengan Pengujian n_cluster = 2\n",
    "\n",
    "import pandas as pd\n",
    "import numpy as np\n",
    "import matplotlib.pyplot as plt\n",
    "from sklearn.cluster import KMeans"
   ]
  },
  {
   "cell_type": "code",
   "execution_count": 10,
   "id": "cbd8a5c6-dd37-48eb-b880-414ed16fdda9",
   "metadata": {},
   "outputs": [],
   "source": [
    "filelocation = 'C:/Users/User/Documents/Berkas Fikar/Skripsi Fikar/Database/data_dari_dbscan.csv'\n",
    "data = pd.read_csv(filelocation)"
   ]
  },
  {
   "cell_type": "code",
   "execution_count": 11,
   "id": "66aace12-c60a-479a-975a-56e1b8d05646",
   "metadata": {},
   "outputs": [
    {
     "data": {
      "text/html": [
       "<div>\n",
       "<style scoped>\n",
       "    .dataframe tbody tr th:only-of-type {\n",
       "        vertical-align: middle;\n",
       "    }\n",
       "\n",
       "    .dataframe tbody tr th {\n",
       "        vertical-align: top;\n",
       "    }\n",
       "\n",
       "    .dataframe thead th {\n",
       "        text-align: right;\n",
       "    }\n",
       "</style>\n",
       "<table border=\"1\" class=\"dataframe\">\n",
       "  <thead>\n",
       "    <tr style=\"text-align: right;\">\n",
       "      <th></th>\n",
       "      <th>No</th>\n",
       "      <th>Nama Sekolah</th>\n",
       "      <th>BP</th>\n",
       "      <th>Status</th>\n",
       "      <th>siswa_total</th>\n",
       "      <th>jumlah_guru</th>\n",
       "      <th>staf_total</th>\n",
       "      <th>jumlah_ruangan</th>\n",
       "      <th>daya_listrik</th>\n",
       "      <th>wilayah_total</th>\n",
       "      <th>skor_akreditasi</th>\n",
       "      <th>Lintang</th>\n",
       "      <th>Bujur</th>\n",
       "      <th>pca1</th>\n",
       "      <th>pca2</th>\n",
       "      <th>dbscanonly_kluster</th>\n",
       "    </tr>\n",
       "  </thead>\n",
       "  <tbody>\n",
       "    <tr>\n",
       "      <th>0</th>\n",
       "      <td>1</td>\n",
       "      <td>UPT SPF SD INPRES BADDOKA</td>\n",
       "      <td>SD</td>\n",
       "      <td>Negeri</td>\n",
       "      <td>337</td>\n",
       "      <td>18</td>\n",
       "      <td>3</td>\n",
       "      <td>13</td>\n",
       "      <td>1300</td>\n",
       "      <td>2808</td>\n",
       "      <td>81</td>\n",
       "      <td>509153567</td>\n",
       "      <td>1195133502</td>\n",
       "      <td>1.628340</td>\n",
       "      <td>3.349251</td>\n",
       "      <td>0</td>\n",
       "    </tr>\n",
       "    <tr>\n",
       "      <th>1</th>\n",
       "      <td>2</td>\n",
       "      <td>UPT SPF SD INPRES BAKUNG 1</td>\n",
       "      <td>SD</td>\n",
       "      <td>Negeri</td>\n",
       "      <td>243</td>\n",
       "      <td>15</td>\n",
       "      <td>4</td>\n",
       "      <td>8</td>\n",
       "      <td>900</td>\n",
       "      <td>3000</td>\n",
       "      <td>84</td>\n",
       "      <td>5073361105</td>\n",
       "      <td>1195294071</td>\n",
       "      <td>1.781699</td>\n",
       "      <td>6.710388</td>\n",
       "      <td>1</td>\n",
       "    </tr>\n",
       "    <tr>\n",
       "      <th>2</th>\n",
       "      <td>3</td>\n",
       "      <td>UPT SPF SD INPRES BAKUNG 2</td>\n",
       "      <td>SD</td>\n",
       "      <td>Negeri</td>\n",
       "      <td>269</td>\n",
       "      <td>16</td>\n",
       "      <td>5</td>\n",
       "      <td>8</td>\n",
       "      <td>4400</td>\n",
       "      <td>2500</td>\n",
       "      <td>84</td>\n",
       "      <td>5079140801</td>\n",
       "      <td>119529189</td>\n",
       "      <td>1.373750</td>\n",
       "      <td>3.268771</td>\n",
       "      <td>0</td>\n",
       "    </tr>\n",
       "    <tr>\n",
       "      <th>3</th>\n",
       "      <td>4</td>\n",
       "      <td>UPT SPF SD INPRES DAYA</td>\n",
       "      <td>SD</td>\n",
       "      <td>Negeri</td>\n",
       "      <td>498</td>\n",
       "      <td>28</td>\n",
       "      <td>3</td>\n",
       "      <td>13</td>\n",
       "      <td>4640</td>\n",
       "      <td>1200</td>\n",
       "      <td>87</td>\n",
       "      <td>5112902708</td>\n",
       "      <td>119512008</td>\n",
       "      <td>2.638114</td>\n",
       "      <td>3.056547</td>\n",
       "      <td>0</td>\n",
       "    </tr>\n",
       "    <tr>\n",
       "      <th>4</th>\n",
       "      <td>5</td>\n",
       "      <td>UPT SPF SD INPRES KALANG TUBUNG 2</td>\n",
       "      <td>SD</td>\n",
       "      <td>Negeri</td>\n",
       "      <td>195</td>\n",
       "      <td>15</td>\n",
       "      <td>1</td>\n",
       "      <td>8</td>\n",
       "      <td>1300</td>\n",
       "      <td>1505</td>\n",
       "      <td>81</td>\n",
       "      <td>5080894528</td>\n",
       "      <td>119536749</td>\n",
       "      <td>0.434320</td>\n",
       "      <td>3.433142</td>\n",
       "      <td>0</td>\n",
       "    </tr>\n",
       "  </tbody>\n",
       "</table>\n",
       "</div>"
      ],
      "text/plain": [
       "   No                       Nama Sekolah  BP  Status  siswa_total  \\\n",
       "0   1          UPT SPF SD INPRES BADDOKA  SD  Negeri          337   \n",
       "1   2         UPT SPF SD INPRES BAKUNG 1  SD  Negeri          243   \n",
       "2   3         UPT SPF SD INPRES BAKUNG 2  SD  Negeri          269   \n",
       "3   4             UPT SPF SD INPRES DAYA  SD  Negeri          498   \n",
       "4   5  UPT SPF SD INPRES KALANG TUBUNG 2  SD  Negeri          195   \n",
       "\n",
       "   jumlah_guru  staf_total  jumlah_ruangan  daya_listrik  wilayah_total  \\\n",
       "0           18           3              13          1300           2808   \n",
       "1           15           4               8           900           3000   \n",
       "2           16           5               8          4400           2500   \n",
       "3           28           3              13          4640           1200   \n",
       "4           15           1               8          1300           1505   \n",
       "\n",
       "   skor_akreditasi     Lintang       Bujur      pca1      pca2  \\\n",
       "0               81   509153567  1195133502  1.628340  3.349251   \n",
       "1               84  5073361105  1195294071  1.781699  6.710388   \n",
       "2               84  5079140801   119529189  1.373750  3.268771   \n",
       "3               87  5112902708   119512008  2.638114  3.056547   \n",
       "4               81  5080894528   119536749  0.434320  3.433142   \n",
       "\n",
       "   dbscanonly_kluster  \n",
       "0                   0  \n",
       "1                   1  \n",
       "2                   0  \n",
       "3                   0  \n",
       "4                   0  "
      ]
     },
     "execution_count": 11,
     "metadata": {},
     "output_type": "execute_result"
    }
   ],
   "source": [
    "data.head()"
   ]
  },
  {
   "cell_type": "code",
   "execution_count": 12,
   "id": "605fe61d-9fa1-43e1-8039-8fcb17899fd5",
   "metadata": {},
   "outputs": [],
   "source": [
    "fitur = ['pca1', 'pca2']\n",
    "x = data.loc[:, fitur].values"
   ]
  },
  {
   "cell_type": "code",
   "execution_count": 13,
   "id": "b6136d04-a596-4998-9669-6bc71de6a0a6",
   "metadata": {},
   "outputs": [],
   "source": [
    "dbscan_kmeans = KMeans(n_clusters=2, init = 'k-means++')\n",
    "y_dbscan_kmeans = dbscan_kmeans.fit_predict(x)"
   ]
  },
  {
   "cell_type": "code",
   "execution_count": 14,
   "id": "412ade6a-8e1a-4ac4-81ab-91e62d5dba36",
   "metadata": {},
   "outputs": [
    {
     "data": {
      "text/plain": [
       "array([0, 0, 0, ..., 0, 0, 0])"
      ]
     },
     "execution_count": 14,
     "metadata": {},
     "output_type": "execute_result"
    }
   ],
   "source": [
    "y_dbscan_kmeans"
   ]
  },
  {
   "cell_type": "code",
   "execution_count": 15,
   "id": "d2b5ae13-d3af-4bcf-aaf8-545a9bb00ac5",
   "metadata": {},
   "outputs": [
    {
     "data": {
      "text/html": [
       "<div>\n",
       "<style scoped>\n",
       "    .dataframe tbody tr th:only-of-type {\n",
       "        vertical-align: middle;\n",
       "    }\n",
       "\n",
       "    .dataframe tbody tr th {\n",
       "        vertical-align: top;\n",
       "    }\n",
       "\n",
       "    .dataframe thead th {\n",
       "        text-align: right;\n",
       "    }\n",
       "</style>\n",
       "<table border=\"1\" class=\"dataframe\">\n",
       "  <thead>\n",
       "    <tr style=\"text-align: right;\">\n",
       "      <th></th>\n",
       "      <th>peningkatanDBSCAN_2klaster</th>\n",
       "    </tr>\n",
       "  </thead>\n",
       "  <tbody>\n",
       "    <tr>\n",
       "      <th>0</th>\n",
       "      <td>0</td>\n",
       "    </tr>\n",
       "    <tr>\n",
       "      <th>1</th>\n",
       "      <td>0</td>\n",
       "    </tr>\n",
       "    <tr>\n",
       "      <th>2</th>\n",
       "      <td>0</td>\n",
       "    </tr>\n",
       "    <tr>\n",
       "      <th>3</th>\n",
       "      <td>1</td>\n",
       "    </tr>\n",
       "    <tr>\n",
       "      <th>4</th>\n",
       "      <td>0</td>\n",
       "    </tr>\n",
       "    <tr>\n",
       "      <th>...</th>\n",
       "      <td>...</td>\n",
       "    </tr>\n",
       "    <tr>\n",
       "      <th>9145</th>\n",
       "      <td>0</td>\n",
       "    </tr>\n",
       "    <tr>\n",
       "      <th>9146</th>\n",
       "      <td>1</td>\n",
       "    </tr>\n",
       "    <tr>\n",
       "      <th>9147</th>\n",
       "      <td>0</td>\n",
       "    </tr>\n",
       "    <tr>\n",
       "      <th>9148</th>\n",
       "      <td>0</td>\n",
       "    </tr>\n",
       "    <tr>\n",
       "      <th>9149</th>\n",
       "      <td>0</td>\n",
       "    </tr>\n",
       "  </tbody>\n",
       "</table>\n",
       "<p>9150 rows × 1 columns</p>\n",
       "</div>"
      ],
      "text/plain": [
       "      peningkatanDBSCAN_2klaster\n",
       "0                              0\n",
       "1                              0\n",
       "2                              0\n",
       "3                              1\n",
       "4                              0\n",
       "...                          ...\n",
       "9145                           0\n",
       "9146                           1\n",
       "9147                           0\n",
       "9148                           0\n",
       "9149                           0\n",
       "\n",
       "[9150 rows x 1 columns]"
      ]
     },
     "execution_count": 15,
     "metadata": {},
     "output_type": "execute_result"
    }
   ],
   "source": [
    "klaster_dbscan_kmeans = pd.DataFrame(data = y_dbscan_kmeans, columns = ['peningkatanDBSCAN_2klaster'])\n",
    "klaster_dbscan_kmeans"
   ]
  },
  {
   "cell_type": "code",
   "execution_count": 16,
   "id": "86e4d773-bb7e-4ec0-ac19-065c4c5d4976",
   "metadata": {},
   "outputs": [
    {
     "data": {
      "image/png": "[encoded data removed]",
      "text/plain": [
       "<Figure size 432x288 with 1 Axes>"
      ]
     },
     "metadata": {
      "needs_background": "light"
     },
     "output_type": "display_data"
    }
   ],
   "source": [
    "plt.scatter(x[y_dbscan_kmeans==0,0], x[y_dbscan_kmeans==0,1], s=50, c='green', label = 'klaster 1')\n",
    "plt.scatter(x[y_dbscan_kmeans==1,0], x[y_dbscan_kmeans==1,1], s=50, c='purple', label = 'klaster 2')\n",
    "plt.scatter(dbscan_kmeans.cluster_centers_[:, 0], dbscan_kmeans.cluster_centers_[:,1], s = 50, c = 'blue', label = 'Centroids')\n",
    "plt.legend()\n",
    "plt.show()"
   ]
  },
  {
   "cell_type": "code",
   "execution_count": 32,
   "id": "79154a99-e59d-4d08-85a8-8042b541cce7",
   "metadata": {},
   "outputs": [],
   "source": [
    "hasil = pd.concat([data, pd.DataFrame(klaster_dbscan_kmeans)], axis=1)\n",
    "hasil.to_csv('2 cluster.csv', index = False)"
   ]
  },
  {
   "cell_type": "code",
   "execution_count": 33,
   "id": "5d42e29b-f8cc-4bef-bf2f-cb65c0c7eb90",
   "metadata": {},
   "outputs": [
    {
     "name": "stdout",
     "output_type": "stream",
     "text": [
      "0.7505380325803438\n"
     ]
    }
   ],
   "source": [
    "from sklearn.metrics import silhouette_samples, silhouette_score\n",
    "SI = silhouette_score(x, y_dbscan_kmeans)\n",
    "print(SI)"
   ]
  },
  {
   "cell_type": "code",
   "execution_count": null,
   "id": "bffe6a5a-13b4-4755-ba15-c5e7845bf809",
   "metadata": {},
   "outputs": [],
   "source": []
  }
 ],
 "metadata": {
  "kernelspec": {
   "display_name": "Python 3 (ipykernel)",
   "language": "python",
   "name": "python3"
  },
  "language_info": {
   "codemirror_mode": {
    "name": "ipython",
    "version": 3
   },
   "file_extension": ".py",
   "mimetype": "text/x-python",
   "name": "python",
   "nbconvert_exporter": "python",
   "pygments_lexer": "ipython3",
   "version": "3.8.9"
  }
 },
 "nbformat": 4,
 "nbformat_minor": 5
}
