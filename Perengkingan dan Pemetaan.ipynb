{
 "cells": [
  {
   "cell_type": "code",
   "execution_count": 54,
   "id": "e4260479-98ad-45dd-a7a3-f229de41fc22",
   "metadata": {},
   "outputs": [],
   "source": [
    "import pandas as pd\n",
    "import folium\n",
    "from folium.plugins import MarkerCluster, Search\n",
    "from folium import FeatureGroup\n",
    "from folium.plugins import MarkerCluster"
   ]
  },
  {
   "cell_type": "code",
   "execution_count": 55,
   "id": "09aae444-4c1b-4db3-87c0-087272e36c81",
   "metadata": {},
   "outputs": [],
   "source": [
    "file_path = 'C:/Users/User/Documents/Berkas Fikar/Skripsi Fikar/Database/Sekolah_Rekomendasi_Bantuan_BOP_PeningkatanDSBCAN3Cluster.csv'\n",
    "df = pd.read_csv(file_path)"
   ]
  },
  {
   "cell_type": "code",
   "execution_count": 37,
   "id": "25549acc-08cb-481d-afbe-06fc190a1fd6",
   "metadata": {},
   "outputs": [],
   "source": [
    "# Bobot perangkingan\n",
    "bobot = {\n",
    "    'skor_akreditasi': 29,\n",
    "    'siswa_total': 23,\n",
    "    'jumlah_ruangan': 19,\n",
    "    'wilayah_total': 14,\n",
    "    'daya_listrik': 5,\n",
    "    'jumlah_guru': 5,\n",
    "    'staf_total': 5\n",
    "}"
   ]
  },
  {
   "cell_type": "code",
   "execution_count": 38,
   "id": "10bd222b-43b6-4f50-bd66-4b39774fadfe",
   "metadata": {},
   "outputs": [],
   "source": [
    "# Normalisasi data\n",
    "for col in bobot.keys():\n",
    "    if col == 'siswa_total':\n",
    "        df[f'{col}_n'] = (df[col] - df[col].min()) / (df[col].max() - df[col].min())\n",
    "    else:\n",
    "        df[f'{col}_n'] = 1 - (df[col] - df[col].min()) / (df[col].max() - df[col].min())"
   ]
  },
  {
   "cell_type": "code",
   "execution_count": 39,
   "id": "fd4cb129-d1ca-4d54-b7b3-f531d9a9e8c7",
   "metadata": {},
   "outputs": [],
   "source": [
    "# Hitung skor akhir\n",
    "df['skor_rekomendasi'] = (\n",
    "    df['skor_akreditasi_n'] * bobot['skor_akreditasi'] +\n",
    "    df['siswa_total_n'] * bobot['siswa_total'] +\n",
    "    df['jumlah_ruangan_n'] * bobot['jumlah_ruangan'] +\n",
    "    df['wilayah_total_n'] * bobot['wilayah_total'] +\n",
    "    df['daya_listrik_n'] * bobot['daya_listrik'] +\n",
    "    df['jumlah_guru_n'] * bobot['jumlah_guru'] +\n",
    "    df['staf_total_n'] * bobot['staf_total']\n",
    ")"
   ]
  },
  {
   "cell_type": "code",
   "execution_count": 26,
   "id": "3e2f4343-cb01-4370-9fb2-cde1aaa04ccd",
   "metadata": {},
   "outputs": [],
   "source": [
    "# Normalisasi skor akhir ke skala 100\n",
    "df['skor_rekomendasi'] = (df['skor_rekomendasi'] - df['skor_rekomendasi'].min()) / (df['skor_rekomendasi'].max() - df['skor_rekomendasi'].min()) * 100"
   ]
  },
  {
   "cell_type": "code",
   "execution_count": 27,
   "id": "c59863aa-0bc7-49c1-a005-7e5c0e4191e4",
   "metadata": {},
   "outputs": [],
   "source": [
    "# Perangkingan\n",
    "df = df.sort_values(by='skor_rekomendasi', ascending=False).reset_index(drop=True)\n",
    "df['peringkat'] = df.index + 1"
   ]
  },
  {
   "cell_type": "code",
   "execution_count": 28,
   "id": "1a8e23a2-f740-4bdf-82e2-7f32203f4957",
   "metadata": {},
   "outputs": [],
   "source": [
    "# Tampilkan semua kolom asli ditambah skor akhir dan peringkat\n",
    "hasil_rekomendasi = df.copy()"
   ]
  },
  {
   "cell_type": "code",
   "execution_count": 29,
   "id": "51f21f81-2095-4ecf-bc02-d88948dbc167",
   "metadata": {},
   "outputs": [
    {
     "name": "stdout",
     "output_type": "stream",
     "text": [
      "       No                      Nama Sekolah   BP  Status  siswa_total  \\\n",
      "0  5260.0               UPT SDN 72 BONTOLOE   SD  Negeri        294.0   \n",
      "1  2097.0    SD INPRES PENGGENTUNGANG UTARA   SD  Negeri        406.0   \n",
      "2  2242.0            SD INPRES BORONGKALUKU   SD  Negeri        334.0   \n",
      "3  4072.0         UPT SD NEGERI 149 PINRANG   SD  Negeri        240.0   \n",
      "4  2227.0               SD NEGERI ANASSAPPU   SD  Negeri        201.0   \n",
      "5  4475.0                 SD NEGERI 4 ARAWA   SD  Negeri        257.0   \n",
      "6  7163.0  UPTD SMPN 31 SATAP LALANG TEDONG  SMP  Negeri        150.0   \n",
      "7  3076.0          SD KRISTEN BUNGIN PASANG   SD  Swasta        146.0   \n",
      "8  2318.0          SD INPRES BIRING PANTING   SD  Negeri        176.0   \n",
      "9  2671.0   UPT SD NEGERI 11 BANGKALA BARAT   SD  Negeri        187.0   \n",
      "\n",
      "   jumlah_guru  staf_total  jumlah_ruangan  daya_listrik  wilayah_total  ...  \\\n",
      "0          8.0         2.0             7.0        5500.0         1965.0  ...   \n",
      "1         21.0         2.0             7.0         900.0         2594.0  ...   \n",
      "2         10.0         2.0             7.0         900.0         4126.0  ...   \n",
      "3         10.0         3.0             7.0        5500.0          602.0  ...   \n",
      "4         10.0         0.0             8.0        1300.0         1547.0  ...   \n",
      "5         12.0         2.0            10.0        5500.0         2237.0  ...   \n",
      "6          9.0         2.0             4.0        3500.0          578.0  ...   \n",
      "7          4.0         1.0             6.0         900.0         1626.0  ...   \n",
      "8          8.0         1.0             7.0        3500.0         2623.0  ...   \n",
      "9          9.0         2.0             7.0         900.0         3703.0  ...   \n",
      "\n",
      "   kmeans_klaster  skor_akreditasi_n  siswa_total_n  jumlah_ruangan_n  \\\n",
      "0               0           1.000000       0.184789          0.920455   \n",
      "1               0           0.956522       0.255185          0.920455   \n",
      "2               0           0.956522       0.209931          0.920455   \n",
      "3               0           1.000000       0.150849          0.920455   \n",
      "4               0           1.000000       0.126336          0.909091   \n",
      "5               0           1.000000       0.161534          0.886364   \n",
      "6               0           1.000000       0.094280          0.954545   \n",
      "7               0           1.000000       0.091766          0.931818   \n",
      "8               0           1.000000       0.110622          0.920455   \n",
      "9               0           1.000000       0.117536          0.920455   \n",
      "\n",
      "   wilayah_total_n  daya_listrik_n  jumlah_guru_n  staf_total_n  \\\n",
      "0         0.997940        0.980442          0.936       0.93750   \n",
      "1         0.997269        0.997164          0.832       0.93750   \n",
      "2         0.995634        0.997164          0.920       0.93750   \n",
      "3         0.999395        0.980442          0.920       0.90625   \n",
      "4         0.998386        0.995710          0.920       1.00000   \n",
      "5         0.997650        0.980442          0.904       0.93750   \n",
      "6         0.999420        0.987713          0.928       0.93750   \n",
      "7         0.998302        0.997164          0.968       0.96875   \n",
      "8         0.997238        0.987713          0.936       0.96875   \n",
      "9         0.996085        0.997164          0.928       0.93750   \n",
      "\n",
      "   skor_rekomendasi  peringkat  \n",
      "0        100.000000          1  \n",
      "1         99.799970          2  \n",
      "2         98.374842          3  \n",
      "3         97.723149          4  \n",
      "4         97.154843          5  \n",
      "5         96.923130          6  \n",
      "6         96.762670          7  \n",
      "7         96.530093          8  \n",
      "8         96.520095          9  \n",
      "9         96.506138         10  \n",
      "\n",
      "[10 rows x 26 columns]\n"
     ]
    }
   ],
   "source": [
    "# Tampilkan hasil perangkingan\n",
    "print(hasil_rekomendasi.head(10))"
   ]
  },
  {
   "cell_type": "code",
   "execution_count": 40,
   "id": "a7bc2eca-e26b-480d-9aca-f21ddee378ae",
   "metadata": {},
   "outputs": [],
   "source": [
    "# Simpan hasil ke file CSV\n",
    "hasil_rekomendasi.to_csv('Sekolah_Rekomendasi_Bantuan_BOP_PeningkatanDSBCAN3Cluster.csv', index=False)"
   ]
  },
  {
   "cell_type": "code",
   "execution_count": 56,
   "id": "bb0f347d-c678-4f53-81e1-3a62654752e1",
   "metadata": {},
   "outputs": [],
   "source": [
    "# Buat peta menggunakan Folium\n",
    "map = folium.Map(location=[-2.5489, 118.0149], zoom_start=8)\n",
    "marker_cluster = MarkerCluster().add_to(map)"
   ]
  },
  {
   "cell_type": "code",
   "execution_count": 57,
   "id": "713d796d-4a26-415e-ba23-d5600c1c3ebd",
   "metadata": {},
   "outputs": [],
   "source": [
    "# Filter jenjang pendidikan\n",
    "jenjang_groups = {\n",
    "    'SD': folium.FeatureGroup(name='SD').add_to(map),\n",
    "    'SMP': folium.FeatureGroup(name='SMP').add_to(map),\n",
    "    'SMA': folium.FeatureGroup(name='SMA').add_to(map),\n",
    "    'SMK': folium.FeatureGroup(name='SMK').add_to(map)\n",
    "}"
   ]
  },
  {
   "cell_type": "code",
   "execution_count": 59,
   "id": "3413a179-c69f-4613-b9d4-f916201d13e8",
   "metadata": {},
   "outputs": [],
   "source": [
    "for idx, row in hasil_rekomendasi.iterrows():\n",
    "    # Lewati jika Lintang atau Bujur kosong\n",
    "    if pd.isna(row['Lintang']) or pd.isna(row['Bujur']):\n",
    "        continue\n",
    "\n",
    "    popup_info = (\n",
    "        f\"Nama Sekolah: {row['Nama Sekolah']}<br>\"\n",
    "        f\"Peringkat Rekomendasi: {row['peringkat']}<br>\"\n",
    "        f\"Skor Akreditasi: {row['skor_akreditasi']}<br>\"\n",
    "        f\"Jumlah Siswa: {row['siswa_total']}<br>\"\n",
    "        f\"Luas Wilayah: {row['wilayah_total']}<br>\"\n",
    "        f\"Jumlah Ruangan: {row['jumlah_ruangan']}<br>\"\n",
    "        f\"Total Staf: {row['staf_total']}<br>\"\n",
    "        f\"Total Guru: {row['jumlah_guru']}<br>\"\n",
    "        f\"Daya Listrik: {row['daya_listrik']}<br>\"\n",
    "    )\n",
    "\n",
    "    # Tentukan warna marker berdasarkan index\n",
    "    if idx <= 2290:\n",
    "        warna = 'red'\n",
    "    elif idx <= 6021:\n",
    "        warna = 'orange'\n",
    "    else:\n",
    "        warna = 'green'\n",
    "\n",
    "    marker = folium.Marker(\n",
    "        location=[row['Lintang'], row['Bujur']],\n",
    "        popup=popup_info,\n",
    "        icon=folium.Icon(color=warna)\n",
    "    )\n",
    "\n",
    "    jenjang = row['BP'] if row['BP'] in jenjang_groups else 'SD'\n",
    "    marker.add_to(jenjang_groups[jenjang])"
   ]
  },
  {
   "cell_type": "code",
   "execution_count": 60,
   "id": "e054467f-2eb0-4434-8019-84f1459c4330",
   "metadata": {},
   "outputs": [
    {
     "data": {
      "text/plain": [
       "<folium.plugins.search.Search at 0x1cb401ec820>"
      ]
     },
     "execution_count": 60,
     "metadata": {},
     "output_type": "execute_result"
    }
   ],
   "source": [
    "# Tambahkan fitur pencarian Nama Sekolah\n",
    "Search(\n",
    "    layer=marker_cluster,\n",
    "    search_label='Nama Sekolah',\n",
    "    placeholder='Cari sekolah...',\n",
    "    collapsed=False\n",
    ").add_to(map)"
   ]
  },
  {
   "cell_type": "code",
   "execution_count": 61,
   "id": "40a3fdbc-3504-42ae-99c1-fddac88df2e3",
   "metadata": {},
   "outputs": [
    {
     "data": {
      "text/plain": [
       "<folium.plugins.search.Search at 0x1cb373c6b80>"
      ]
     },
     "execution_count": 61,
     "metadata": {},
     "output_type": "execute_result"
    }
   ],
   "source": [
    "# Tambahkan fitur pencarian Nama Sekolah\n",
    "Search(\n",
    "    layer=marker_cluster,\n",
    "    search_label='peringkat',\n",
    "    placeholder='Masukkan Peringkat Sekolah',\n",
    "    collapsed=False\n",
    ").add_to(map)"
   ]
  },
  {
   "cell_type": "code",
   "execution_count": 62,
   "id": "61ae6b54-1194-4892-8d01-ee5fec94219c",
   "metadata": {},
   "outputs": [
    {
     "data": {
      "text/plain": [
       "<folium.map.LayerControl at 0x1cb3bbe2460>"
      ]
     },
     "execution_count": 62,
     "metadata": {},
     "output_type": "execute_result"
    }
   ],
   "source": [
    "# Tambahkan kontrol layer untuk filter jenjang\n",
    "folium.LayerControl().add_to(map)"
   ]
  },
  {
   "cell_type": "code",
   "execution_count": 63,
   "id": "dd38900a-8ac4-4cf3-9eea-8883122ae821",
   "metadata": {},
   "outputs": [
    {
     "name": "stdout",
     "output_type": "stream",
     "text": [
      "Peta Rekomendasi telah disimpan sebagai 'Peta_FIX_Rekomendasi_Sekolah_Sulsel.html'\n"
     ]
    }
   ],
   "source": [
    "# Simpan peta ke file HTML\n",
    "map.save('Peta_FIX_Rekomendasi_Sekolah_Sulsel.html')\n",
    "print(\"Peta Rekomendasi telah disimpan sebagai 'Peta_FIX_Rekomendasi_Sekolah_Sulsel.html'\")"
   ]
  },
  {
   "cell_type": "code",
   "execution_count": null,
   "id": "4950dbfd-3e67-4e89-9d1a-532f04e6134c",
   "metadata": {},
   "outputs": [],
   "source": []
  }
 ],
 "metadata": {
  "kernelspec": {
   "display_name": "Python 3 (ipykernel)",
   "language": "python",
   "name": "python3"
  },
  "language_info": {
   "codemirror_mode": {
    "name": "ipython",
    "version": 3
   },
   "file_extension": ".py",
   "mimetype": "text/x-python",
   "name": "python",
   "nbconvert_exporter": "python",
   "pygments_lexer": "ipython3",
   "version": "3.8.9"
  }
 },
 "nbformat": 4,
 "nbformat_minor": 5
}
