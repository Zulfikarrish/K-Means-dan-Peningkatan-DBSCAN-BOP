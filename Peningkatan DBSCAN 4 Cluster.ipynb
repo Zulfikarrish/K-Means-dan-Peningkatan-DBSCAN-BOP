{
 "cells": [
  {
   "cell_type": "code",
   "execution_count": 1,
   "id": "18d99d8e-bda4-46e2-b3bc-906e2fe5c55c",
   "metadata": {},
   "outputs": [],
   "source": [
    "#Algoritma Peningkatan DBSCAN dengan Pengujian n_cluster = 2\n",
    "\n",
    "import pandas as pd\n",
    "import numpy as np\n",
    "import matplotlib.pyplot as plt\n",
    "from sklearn.cluster import KMeans"
   ]
  },
  {
   "cell_type": "code",
   "execution_count": 24,
   "id": "69bc4dcc-7ffc-42ad-8e98-b39599eab3e0",
   "metadata": {},
   "outputs": [],
   "source": [
    "filelocation = 'C:/Users/User/Documents/Berkas Fikar/data_dari_dbscan.csv'\n",
    "data = pd.read_csv(filelocation)"
   ]
  },
  {
   "cell_type": "code",
   "execution_count": 25,
   "id": "f6241af2-dc74-430c-b263-197b3a9d546b",
   "metadata": {},
   "outputs": [
    {
     "data": {
      "text/html": [
       "<div>\n",
       "<style scoped>\n",
       "    .dataframe tbody tr th:only-of-type {\n",
       "        vertical-align: middle;\n",
       "    }\n",
       "\n",
       "    .dataframe tbody tr th {\n",
       "        vertical-align: top;\n",
       "    }\n",
       "\n",
       "    .dataframe thead th {\n",
       "        text-align: right;\n",
       "    }\n",
       "</style>\n",
       "<table border=\"1\" class=\"dataframe\">\n",
       "  <thead>\n",
       "    <tr style=\"text-align: right;\">\n",
       "      <th></th>\n",
       "      <th>No</th>\n",
       "      <th>Nama Sekolah</th>\n",
       "      <th>BP</th>\n",
       "      <th>Status</th>\n",
       "      <th>siswa_total</th>\n",
       "      <th>jumlah_guru</th>\n",
       "      <th>staf_total</th>\n",
       "      <th>jumlah_ruangan</th>\n",
       "      <th>daya_listrik</th>\n",
       "      <th>wilayah_total</th>\n",
       "      <th>skor_akreditasi</th>\n",
       "      <th>Lintang</th>\n",
       "      <th>Bujur</th>\n",
       "      <th>pca1</th>\n",
       "      <th>pca2</th>\n",
       "      <th>dbscan_kluster</th>\n",
       "    </tr>\n",
       "  </thead>\n",
       "  <tbody>\n",
       "    <tr>\n",
       "      <th>0</th>\n",
       "      <td>1</td>\n",
       "      <td>UPT SPF SD INPRES BADDOKA</td>\n",
       "      <td>SD</td>\n",
       "      <td>Negeri</td>\n",
       "      <td>337</td>\n",
       "      <td>18</td>\n",
       "      <td>3</td>\n",
       "      <td>13</td>\n",
       "      <td>1300</td>\n",
       "      <td>2808</td>\n",
       "      <td>81</td>\n",
       "      <td>509153567</td>\n",
       "      <td>1195133502</td>\n",
       "      <td>1.628340</td>\n",
       "      <td>3.349251</td>\n",
       "      <td>0</td>\n",
       "    </tr>\n",
       "    <tr>\n",
       "      <th>1</th>\n",
       "      <td>2</td>\n",
       "      <td>UPT SPF SD INPRES BAKUNG 1</td>\n",
       "      <td>SD</td>\n",
       "      <td>Negeri</td>\n",
       "      <td>243</td>\n",
       "      <td>15</td>\n",
       "      <td>4</td>\n",
       "      <td>8</td>\n",
       "      <td>900</td>\n",
       "      <td>3000</td>\n",
       "      <td>84</td>\n",
       "      <td>5073361105</td>\n",
       "      <td>1195294071</td>\n",
       "      <td>1.781699</td>\n",
       "      <td>6.710388</td>\n",
       "      <td>0</td>\n",
       "    </tr>\n",
       "    <tr>\n",
       "      <th>2</th>\n",
       "      <td>3</td>\n",
       "      <td>UPT SPF SD INPRES BAKUNG 2</td>\n",
       "      <td>SD</td>\n",
       "      <td>Negeri</td>\n",
       "      <td>269</td>\n",
       "      <td>16</td>\n",
       "      <td>5</td>\n",
       "      <td>8</td>\n",
       "      <td>4400</td>\n",
       "      <td>2500</td>\n",
       "      <td>84</td>\n",
       "      <td>5079140801</td>\n",
       "      <td>119529189</td>\n",
       "      <td>1.373750</td>\n",
       "      <td>3.268771</td>\n",
       "      <td>0</td>\n",
       "    </tr>\n",
       "    <tr>\n",
       "      <th>3</th>\n",
       "      <td>4</td>\n",
       "      <td>UPT SPF SD INPRES DAYA</td>\n",
       "      <td>SD</td>\n",
       "      <td>Negeri</td>\n",
       "      <td>498</td>\n",
       "      <td>28</td>\n",
       "      <td>3</td>\n",
       "      <td>13</td>\n",
       "      <td>4640</td>\n",
       "      <td>1200</td>\n",
       "      <td>87</td>\n",
       "      <td>5112902708</td>\n",
       "      <td>119512008</td>\n",
       "      <td>2.638114</td>\n",
       "      <td>3.056547</td>\n",
       "      <td>0</td>\n",
       "    </tr>\n",
       "    <tr>\n",
       "      <th>4</th>\n",
       "      <td>5</td>\n",
       "      <td>UPT SPF SD INPRES KALANG TUBUNG 2</td>\n",
       "      <td>SD</td>\n",
       "      <td>Negeri</td>\n",
       "      <td>195</td>\n",
       "      <td>15</td>\n",
       "      <td>1</td>\n",
       "      <td>8</td>\n",
       "      <td>1300</td>\n",
       "      <td>1505</td>\n",
       "      <td>81</td>\n",
       "      <td>5080894528</td>\n",
       "      <td>119536749</td>\n",
       "      <td>0.434320</td>\n",
       "      <td>3.433142</td>\n",
       "      <td>0</td>\n",
       "    </tr>\n",
       "  </tbody>\n",
       "</table>\n",
       "</div>"
      ],
      "text/plain": [
       "   No                       Nama Sekolah  BP  Status  siswa_total  \\\n",
       "0   1          UPT SPF SD INPRES BADDOKA  SD  Negeri          337   \n",
       "1   2         UPT SPF SD INPRES BAKUNG 1  SD  Negeri          243   \n",
       "2   3         UPT SPF SD INPRES BAKUNG 2  SD  Negeri          269   \n",
       "3   4             UPT SPF SD INPRES DAYA  SD  Negeri          498   \n",
       "4   5  UPT SPF SD INPRES KALANG TUBUNG 2  SD  Negeri          195   \n",
       "\n",
       "   jumlah_guru  staf_total  jumlah_ruangan  daya_listrik  wilayah_total  \\\n",
       "0           18           3              13          1300           2808   \n",
       "1           15           4               8           900           3000   \n",
       "2           16           5               8          4400           2500   \n",
       "3           28           3              13          4640           1200   \n",
       "4           15           1               8          1300           1505   \n",
       "\n",
       "   skor_akreditasi     Lintang       Bujur      pca1      pca2  dbscan_kluster  \n",
       "0               81   509153567  1195133502  1.628340  3.349251               0  \n",
       "1               84  5073361105  1195294071  1.781699  6.710388               0  \n",
       "2               84  5079140801   119529189  1.373750  3.268771               0  \n",
       "3               87  5112902708   119512008  2.638114  3.056547               0  \n",
       "4               81  5080894528   119536749  0.434320  3.433142               0  "
      ]
     },
     "execution_count": 25,
     "metadata": {},
     "output_type": "execute_result"
    }
   ],
   "source": [
    "data.head()"
   ]
  },
  {
   "cell_type": "code",
   "execution_count": 33,
   "id": "ef275f7e-384f-412d-91b6-e1a636fb78ae",
   "metadata": {},
   "outputs": [],
   "source": [
    "fitur = ['pca1', 'pca2']\n",
    "x = data.loc[:, fitur].values"
   ]
  },
  {
   "cell_type": "code",
   "execution_count": 34,
   "id": "a4301c32-9e74-4449-a85c-29ad076b8c90",
   "metadata": {},
   "outputs": [],
   "source": [
    "dbscan_kmeans = KMeans(n_clusters=4, init = 'k-means++')\n",
    "y_dbscan_kmeans = dbscan_kmeans.fit_predict(x)"
   ]
  },
  {
   "cell_type": "code",
   "execution_count": 35,
   "id": "014e68a2-e34f-4d04-a7ce-511f6fdceec3",
   "metadata": {},
   "outputs": [
    {
     "data": {
      "text/plain": [
       "array([2, 2, 2, ..., 2, 2, 3])"
      ]
     },
     "execution_count": 35,
     "metadata": {},
     "output_type": "execute_result"
    }
   ],
   "source": [
    "y_dbscan_kmeans"
   ]
  },
  {
   "cell_type": "code",
   "execution_count": 36,
   "id": "0bf6d97b-4458-4f53-ad40-27fd73cbcf2c",
   "metadata": {},
   "outputs": [
    {
     "data": {
      "text/html": [
       "<div>\n",
       "<style scoped>\n",
       "    .dataframe tbody tr th:only-of-type {\n",
       "        vertical-align: middle;\n",
       "    }\n",
       "\n",
       "    .dataframe tbody tr th {\n",
       "        vertical-align: top;\n",
       "    }\n",
       "\n",
       "    .dataframe thead th {\n",
       "        text-align: right;\n",
       "    }\n",
       "</style>\n",
       "<table border=\"1\" class=\"dataframe\">\n",
       "  <thead>\n",
       "    <tr style=\"text-align: right;\">\n",
       "      <th></th>\n",
       "      <th>kmeans_klaster</th>\n",
       "    </tr>\n",
       "  </thead>\n",
       "  <tbody>\n",
       "    <tr>\n",
       "      <th>0</th>\n",
       "      <td>2</td>\n",
       "    </tr>\n",
       "    <tr>\n",
       "      <th>1</th>\n",
       "      <td>2</td>\n",
       "    </tr>\n",
       "    <tr>\n",
       "      <th>2</th>\n",
       "      <td>2</td>\n",
       "    </tr>\n",
       "    <tr>\n",
       "      <th>3</th>\n",
       "      <td>2</td>\n",
       "    </tr>\n",
       "    <tr>\n",
       "      <th>4</th>\n",
       "      <td>2</td>\n",
       "    </tr>\n",
       "    <tr>\n",
       "      <th>...</th>\n",
       "      <td>...</td>\n",
       "    </tr>\n",
       "    <tr>\n",
       "      <th>9180</th>\n",
       "      <td>2</td>\n",
       "    </tr>\n",
       "    <tr>\n",
       "      <th>9181</th>\n",
       "      <td>0</td>\n",
       "    </tr>\n",
       "    <tr>\n",
       "      <th>9182</th>\n",
       "      <td>2</td>\n",
       "    </tr>\n",
       "    <tr>\n",
       "      <th>9183</th>\n",
       "      <td>2</td>\n",
       "    </tr>\n",
       "    <tr>\n",
       "      <th>9184</th>\n",
       "      <td>3</td>\n",
       "    </tr>\n",
       "  </tbody>\n",
       "</table>\n",
       "<p>9185 rows × 1 columns</p>\n",
       "</div>"
      ],
      "text/plain": [
       "      kmeans_klaster\n",
       "0                  2\n",
       "1                  2\n",
       "2                  2\n",
       "3                  2\n",
       "4                  2\n",
       "...              ...\n",
       "9180               2\n",
       "9181               0\n",
       "9182               2\n",
       "9183               2\n",
       "9184               3\n",
       "\n",
       "[9185 rows x 1 columns]"
      ]
     },
     "execution_count": 36,
     "metadata": {},
     "output_type": "execute_result"
    }
   ],
   "source": [
    "klaster_dbscan_kmeans = pd.DataFrame(data = y_dbscan_kmeans, columns = ['kmeans_klaster'])\n",
    "klaster_dbscan_kmeans"
   ]
  },
  {
   "cell_type": "code",
   "execution_count": 37,
   "id": "6337d0fa-4a6e-4cd4-984e-62019d3e55cb",
   "metadata": {},
   "outputs": [
    {
     "data": {
      "image/png": "[encoded data removed]",
      "text/plain": [
       "<Figure size 432x288 with 1 Axes>"
      ]
     },
     "metadata": {
      "needs_background": "light"
     },
     "output_type": "display_data"
    }
   ],
   "source": [
    "plt.scatter(x[y_dbscan_kmeans==0,0], x[y_dbscan_kmeans==0,1], s=50, c='green', label = 'klaster 1')\n",
    "plt.scatter(x[y_dbscan_kmeans==1,0], x[y_dbscan_kmeans==1,1], s=50, c='purple', label = 'klaster 2')\n",
    "plt.scatter(x[y_dbscan_kmeans==2,0], x[y_dbscan_kmeans==2,1], s=50, c='red', label = 'klaster 3')\n",
    "plt.scatter(x[y_dbscan_kmeans==3,0], x[y_dbscan_kmeans==3,1], s=50, c='black', label = 'klaster 4')\n",
    "plt.scatter(dbscan_kmeans.cluster_centers_[:, 0], dbscan_kmeans.cluster_centers_[:,1], s = 50, c = 'blue', label = 'Centroids')\n",
    "plt.legend()\n",
    "plt.show()"
   ]
  },
  {
   "cell_type": "code",
   "execution_count": 38,
   "id": "f56c1388-294a-4db2-8f7c-d7c0a2f033d6",
   "metadata": {},
   "outputs": [],
   "source": [
    "hasil = pd.concat([data, pd.DataFrame(klaster_dbscan_kmeans)], axis=1)\n",
    "hasil.to_csv('data_hasil_peningkatan_dbscan_4cluster.csv', index = False)"
   ]
  },
  {
   "cell_type": "code",
   "execution_count": 39,
   "id": "df9d1c66-fe43-49d1-827a-da0b2f78ada7",
   "metadata": {},
   "outputs": [
    {
     "name": "stdout",
     "output_type": "stream",
     "text": [
      "0.6584856625258013\n"
     ]
    }
   ],
   "source": [
    "from sklearn.metrics import silhouette_samples, silhouette_score\n",
    "SI = silhouette_score(x, y_dbscan_kmeans)\n",
    "print(SI)"
   ]
  },
  {
   "cell_type": "code",
   "execution_count": null,
   "id": "a8a36c5d-c620-4026-90cf-d3bd6b1fe848",
   "metadata": {},
   "outputs": [],
   "source": []
  },
  {
   "cell_type": "code",
   "execution_count": null,
   "id": "4191a320-58f0-4af0-a56f-3f7fd5e41328",
   "metadata": {},
   "outputs": [],
   "source": []
  }
 ],
 "metadata": {
  "kernelspec": {
   "display_name": "Python 3 (ipykernel)",
   "language": "python",
   "name": "python3"
  },
  "language_info": {
   "codemirror_mode": {
    "name": "ipython",
    "version": 3
   },
   "file_extension": ".py",
   "mimetype": "text/x-python",
   "name": "python",
   "nbconvert_exporter": "python",
   "pygments_lexer": "ipython3",
   "version": "3.8.9"
  }
 },
 "nbformat": 4,
 "nbformat_minor": 5
}
